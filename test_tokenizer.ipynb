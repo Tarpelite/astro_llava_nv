{
 "cells": [
  {
   "cell_type": "code",
   "execution_count": 2,
   "metadata": {},
   "outputs": [],
   "source": [
    "from transformers import AutoTokenizer"
   ]
  },
  {
   "cell_type": "code",
   "execution_count": 3,
   "metadata": {},
   "outputs": [],
   "source": [
    "checkpoint = \"/mnt/data/CVPR2025/task1_data/Qwen2-VL-2B-Instruct\"\n",
    "tokenizer = AutoTokenizer.from_pretrained(checkpoint)"
   ]
  },
  {
   "cell_type": "code",
   "execution_count": 4,
   "metadata": {},
   "outputs": [
    {
     "data": {
      "text/plain": [
       "[9707,\n",
       " 1879,\n",
       " 151643,\n",
       " 151643,\n",
       " 151643,\n",
       " 151643,\n",
       " 151643,\n",
       " 151643,\n",
       " 151643,\n",
       " 151643,\n",
       " 151643,\n",
       " 151643,\n",
       " 151643,\n",
       " 151643,\n",
       " 151643,\n",
       " 151643,\n",
       " 151643,\n",
       " 151643,\n",
       " 151643,\n",
       " 151643]"
      ]
     },
     "execution_count": 4,
     "metadata": {},
     "output_type": "execute_result"
    }
   ],
   "source": [
    "tokenizer(\"Hello world\", padding=\"max_length\", max_length=20, truncation=True, padding_side=\"right\")[\"input_ids\"]"
   ]
  }
 ],
 "metadata": {
  "kernelspec": {
   "display_name": "Python 3",
   "language": "python",
   "name": "python3"
  },
  "language_info": {
   "codemirror_mode": {
    "name": "ipython",
    "version": 3
   },
   "file_extension": ".py",
   "mimetype": "text/x-python",
   "name": "python",
   "nbconvert_exporter": "python",
   "pygments_lexer": "ipython3",
   "version": "3.9.20"
  }
 },
 "nbformat": 4,
 "nbformat_minor": 2
}
